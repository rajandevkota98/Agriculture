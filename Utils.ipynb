{
 "cells": [
  {
   "cell_type": "code",
   "execution_count": 1,
   "id": "265ba169",
   "metadata": {},
   "outputs": [],
   "source": [
    "data = {'rice': 120,\n",
    " 'maize': \n",
    " 'chickpea': 2,\n",
    " 'kidneybeans': 3,\n",
    " 'pigeonpeas': 4,\n",
    " 'mothbeans': 5,\n",
    " 'mungbean': 6,\n",
    " 'blackgram': 7,\n",
    " 'lentil': 8,\n",
    " 'pomegranate': 9,\n",
    " 'banana': 10,\n",
    " 'mango': 11,\n",
    " 'grapes': 12,\n",
    " 'watermelon': 13,\n",
    " 'muskmelon': 14,\n",
    " 'apple': 15,\n",
    " 'orange': 16,\n",
    " 'papaya': 17,\n",
    " 'coconut': 18,\n",
    " 'cotton': 19,\n",
    " 'jute': 20,\n",
    " 'coffee': 21}"
   ]
  },
  {
   "cell_type": "code",
   "execution_count": null,
   "id": "3c8ca487",
   "metadata": {},
   "outputs": [],
   "source": []
  }
 ],
 "metadata": {
  "kernelspec": {
   "display_name": "Python 3 (ipykernel)",
   "language": "python",
   "name": "python3"
  },
  "language_info": {
   "codemirror_mode": {
    "name": "ipython",
    "version": 3
   },
   "file_extension": ".py",
   "mimetype": "text/x-python",
   "name": "python",
   "nbconvert_exporter": "python",
   "pygments_lexer": "ipython3",
   "version": "3.9.12"
  }
 },
 "nbformat": 4,
 "nbformat_minor": 5
}
